{
 "cells": [
  {
   "cell_type": "markdown",
   "id": "e6a21531-d352-4fa1-9dfe-849881d2a289",
   "metadata": {},
   "source": [
    "# Datacamp Data Analyst Associate Practical Exam Submission"
   ]
  },
  {
   "cell_type": "code",
   "execution_count": 45,
   "id": "6702d839-7bef-4de9-9c2c-f4238e96de53",
   "metadata": {
    "executionCancelledAt": null,
    "executionTime": 45,
    "lastExecutedAt": 1696667175738,
    "lastScheduledRunId": null,
    "lastSuccessfullyExecutedCode": "library(tidyverse)\nlibrary(data.table)",
    "outputsMetadata": {
     "0": {
      "height": 564,
      "type": "stream"
     }
    }
   },
   "outputs": [],
   "source": [
    "library(tidyverse)\n",
    "library(data.table)"
   ]
  },
  {
   "cell_type": "markdown",
   "id": "9541ebf6-7b85-492f-a7f8-f80c24c2081a",
   "metadata": {},
   "source": [
    "### Reading Data"
   ]
  },
  {
   "cell_type": "code",
   "execution_count": 46,
   "id": "f7947d20-550d-45c7-9185-debf2891f40c",
   "metadata": {
    "executionCancelledAt": null,
    "executionTime": 46,
    "lastExecutedAt": 1696667175784,
    "lastScheduledRunId": null,
    "lastSuccessfullyExecutedCode": "df <-  read.csv(\"food_claims_2212.csv\",colClasses = c(\"claim_id\" = \"character\"))\nhead(df)",
    "outputsMetadata": {
     "0": {
      "height": 229,
      "type": "dataFrame"
     }
    }
   },
   "outputs": [
    {
     "data": {
      "application/com.datacamp.data-table.v1+json": {
       "table": {
        "data": [
         {
          "amount_paid": 51231.37,
          "cause": "unknown",
          "claim_amount": "R$ 74474.55",
          "claim_id": "0001",
          "index": "1",
          "individuals_on_claim": 15,
          "linked_cases": false,
          "location": "RECIFE",
          "time_to_close": 317
         },
         {
          "amount_paid": 42111.3,
          "cause": "unknown",
          "claim_amount": "R$ 52137.83",
          "claim_id": "0002",
          "index": "2",
          "individuals_on_claim": 12,
          "linked_cases": true,
          "location": "FORTALEZA",
          "time_to_close": 195
         },
         {
          "amount_paid": 23986.3,
          "cause": "meat",
          "claim_amount": "R$ 24447.2",
          "claim_id": "0003",
          "index": "3",
          "individuals_on_claim": 10,
          "linked_cases": true,
          "location": "SAO LUIS",
          "time_to_close": 183
         },
         {
          "amount_paid": 27942.72,
          "cause": "meat",
          "claim_amount": "R$ 29006.28",
          "claim_id": "0004",
          "index": "4",
          "individuals_on_claim": 11,
          "linked_cases": false,
          "location": "FORTALEZA",
          "time_to_close": 186
         },
         {
          "amount_paid": 16251.06,
          "cause": "vegetable",
          "claim_amount": "R$ 19520.6",
          "claim_id": "0005",
          "index": "5",
          "individuals_on_claim": 11,
          "linked_cases": false,
          "location": "RECIFE",
          "time_to_close": 138
         },
         {
          "amount_paid": 38011.98,
          "cause": "unknown",
          "claim_amount": "R$ 47529.14",
          "claim_id": "0006",
          "index": "6",
          "individuals_on_claim": 11,
          "linked_cases": false,
          "location": "NATAL",
          "time_to_close": 183
         }
        ],
        "schema": {
         "fields": [
          {
           "name": "index",
           "type": "string"
          },
          {
           "name": "claim_id",
           "type": "string"
          },
          {
           "name": "time_to_close",
           "type": "integer"
          },
          {
           "name": "claim_amount",
           "type": "string"
          },
          {
           "name": "amount_paid",
           "type": "float"
          },
          {
           "name": "location",
           "type": "string"
          },
          {
           "name": "individuals_on_claim",
           "type": "integer"
          },
          {
           "name": "linked_cases",
           "type": "boolean"
          },
          {
           "name": "cause",
           "type": "string"
          }
         ],
         "pandas_version": "0.20.0",
         "primaryKey": [
          "index"
         ]
        }
       },
       "total_rows": 6,
       "truncation_type": null
      },
      "text/html": [
       "<table class=\"dataframe\">\n",
       "<caption>A data.frame: 6 × 8</caption>\n",
       "<thead>\n",
       "\t<tr><th></th><th scope=col>claim_id</th><th scope=col>time_to_close</th><th scope=col>claim_amount</th><th scope=col>amount_paid</th><th scope=col>location</th><th scope=col>individuals_on_claim</th><th scope=col>linked_cases</th><th scope=col>cause</th></tr>\n",
       "\t<tr><th></th><th scope=col>&lt;chr&gt;</th><th scope=col>&lt;int&gt;</th><th scope=col>&lt;chr&gt;</th><th scope=col>&lt;dbl&gt;</th><th scope=col>&lt;chr&gt;</th><th scope=col>&lt;int&gt;</th><th scope=col>&lt;lgl&gt;</th><th scope=col>&lt;chr&gt;</th></tr>\n",
       "</thead>\n",
       "<tbody>\n",
       "\t<tr><th scope=row>1</th><td>0001</td><td>317</td><td>R$ 74474.55</td><td>51231.37</td><td>RECIFE   </td><td>15</td><td>FALSE</td><td>unknown  </td></tr>\n",
       "\t<tr><th scope=row>2</th><td>0002</td><td>195</td><td>R$ 52137.83</td><td>42111.30</td><td>FORTALEZA</td><td>12</td><td> TRUE</td><td>unknown  </td></tr>\n",
       "\t<tr><th scope=row>3</th><td>0003</td><td>183</td><td>R$ 24447.2 </td><td>23986.30</td><td>SAO LUIS </td><td>10</td><td> TRUE</td><td>meat     </td></tr>\n",
       "\t<tr><th scope=row>4</th><td>0004</td><td>186</td><td>R$ 29006.28</td><td>27942.72</td><td>FORTALEZA</td><td>11</td><td>FALSE</td><td>meat     </td></tr>\n",
       "\t<tr><th scope=row>5</th><td>0005</td><td>138</td><td>R$ 19520.6 </td><td>16251.06</td><td>RECIFE   </td><td>11</td><td>FALSE</td><td>vegetable</td></tr>\n",
       "\t<tr><th scope=row>6</th><td>0006</td><td>183</td><td>R$ 47529.14</td><td>38011.98</td><td>NATAL    </td><td>11</td><td>FALSE</td><td>unknown  </td></tr>\n",
       "</tbody>\n",
       "</table>\n"
      ],
      "text/latex": [
       "A data.frame: 6 × 8\n",
       "\\begin{tabular}{r|llllllll}\n",
       "  & claim\\_id & time\\_to\\_close & claim\\_amount & amount\\_paid & location & individuals\\_on\\_claim & linked\\_cases & cause\\\\\n",
       "  & <chr> & <int> & <chr> & <dbl> & <chr> & <int> & <lgl> & <chr>\\\\\n",
       "\\hline\n",
       "\t1 & 0001 & 317 & R\\$ 74474.55 & 51231.37 & RECIFE    & 15 & FALSE & unknown  \\\\\n",
       "\t2 & 0002 & 195 & R\\$ 52137.83 & 42111.30 & FORTALEZA & 12 &  TRUE & unknown  \\\\\n",
       "\t3 & 0003 & 183 & R\\$ 24447.2  & 23986.30 & SAO LUIS  & 10 &  TRUE & meat     \\\\\n",
       "\t4 & 0004 & 186 & R\\$ 29006.28 & 27942.72 & FORTALEZA & 11 & FALSE & meat     \\\\\n",
       "\t5 & 0005 & 138 & R\\$ 19520.6  & 16251.06 & RECIFE    & 11 & FALSE & vegetable\\\\\n",
       "\t6 & 0006 & 183 & R\\$ 47529.14 & 38011.98 & NATAL     & 11 & FALSE & unknown  \\\\\n",
       "\\end{tabular}\n"
      ],
      "text/markdown": [
       "\n",
       "A data.frame: 6 × 8\n",
       "\n",
       "| <!--/--> | claim_id &lt;chr&gt; | time_to_close &lt;int&gt; | claim_amount &lt;chr&gt; | amount_paid &lt;dbl&gt; | location &lt;chr&gt; | individuals_on_claim &lt;int&gt; | linked_cases &lt;lgl&gt; | cause &lt;chr&gt; |\n",
       "|---|---|---|---|---|---|---|---|---|\n",
       "| 1 | 0001 | 317 | R$ 74474.55 | 51231.37 | RECIFE    | 15 | FALSE | unknown   |\n",
       "| 2 | 0002 | 195 | R$ 52137.83 | 42111.30 | FORTALEZA | 12 |  TRUE | unknown   |\n",
       "| 3 | 0003 | 183 | R$ 24447.2  | 23986.30 | SAO LUIS  | 10 |  TRUE | meat      |\n",
       "| 4 | 0004 | 186 | R$ 29006.28 | 27942.72 | FORTALEZA | 11 | FALSE | meat      |\n",
       "| 5 | 0005 | 138 | R$ 19520.6  | 16251.06 | RECIFE    | 11 | FALSE | vegetable |\n",
       "| 6 | 0006 | 183 | R$ 47529.14 | 38011.98 | NATAL     | 11 | FALSE | unknown   |\n",
       "\n"
      ],
      "text/plain": [
       "  claim_id time_to_close claim_amount amount_paid location \n",
       "1 0001     317           R$ 74474.55  51231.37    RECIFE   \n",
       "2 0002     195           R$ 52137.83  42111.30    FORTALEZA\n",
       "3 0003     183           R$ 24447.2   23986.30    SAO LUIS \n",
       "4 0004     186           R$ 29006.28  27942.72    FORTALEZA\n",
       "5 0005     138           R$ 19520.6   16251.06    RECIFE   \n",
       "6 0006     183           R$ 47529.14  38011.98    NATAL    \n",
       "  individuals_on_claim linked_cases cause    \n",
       "1 15                   FALSE        unknown  \n",
       "2 12                    TRUE        unknown  \n",
       "3 10                    TRUE        meat     \n",
       "4 11                   FALSE        meat     \n",
       "5 11                   FALSE        vegetable\n",
       "6 11                   FALSE        unknown  "
      ]
     },
     "metadata": {},
     "output_type": "display_data"
    }
   ],
   "source": [
    "df <-  read.csv(\"food_claims_2212.csv\",colClasses = c(\"claim_id\" = \"character\"))\n",
    "head(df)"
   ]
  },
  {
   "cell_type": "markdown",
   "id": "c61102d3-d7c6-412c-b939-a53bc92216e4",
   "metadata": {},
   "source": [
    "### Checking DataType and NA Count"
   ]
  },
  {
   "cell_type": "code",
   "execution_count": 47,
   "id": "99b79f81-dee3-431b-bf80-98ff167ffbb1",
   "metadata": {
    "executionCancelledAt": null,
    "executionTime": 46,
    "lastExecutedAt": 1696667175830,
    "lastScheduledRunId": null,
    "lastSuccessfullyExecutedCode": "df %>% map_df(typeof) %>% gather %>% left_join(\ndf %>% map_df(~sum(is.na(.))) %>% gather, by = \"key\") %>% \nselect(variable = key, datatype = value.x, na_cnt = value.y)",
    "outputsMetadata": {
     "0": {
      "height": 262,
      "type": "dataFrame"
     }
    }
   },
   "outputs": [
    {
     "data": {
      "application/com.datacamp.data-table.v1+json": {
       "table": {
        "data": [
         {
          "datatype": "character",
          "index": "1",
          "na_cnt": 0,
          "variable": "claim_id"
         },
         {
          "datatype": "integer",
          "index": "2",
          "na_cnt": 0,
          "variable": "time_to_close"
         },
         {
          "datatype": "character",
          "index": "3",
          "na_cnt": 0,
          "variable": "claim_amount"
         },
         {
          "datatype": "double",
          "index": "4",
          "na_cnt": 36,
          "variable": "amount_paid"
         },
         {
          "datatype": "character",
          "index": "5",
          "na_cnt": 0,
          "variable": "location"
         },
         {
          "datatype": "integer",
          "index": "6",
          "na_cnt": 0,
          "variable": "individuals_on_claim"
         },
         {
          "datatype": "logical",
          "index": "7",
          "na_cnt": 26,
          "variable": "linked_cases"
         },
         {
          "datatype": "character",
          "index": "8",
          "na_cnt": 0,
          "variable": "cause"
         }
        ],
        "schema": {
         "fields": [
          {
           "name": "index",
           "type": "string"
          },
          {
           "name": "variable",
           "type": "string"
          },
          {
           "name": "datatype",
           "type": "string"
          },
          {
           "name": "na_cnt",
           "type": "integer"
          }
         ],
         "pandas_version": "0.20.0",
         "primaryKey": [
          "index"
         ]
        }
       },
       "total_rows": 8,
       "truncation_type": null
      },
      "text/html": [
       "<table class=\"dataframe\">\n",
       "<caption>A tibble: 8 × 3</caption>\n",
       "<thead>\n",
       "\t<tr><th scope=col>variable</th><th scope=col>datatype</th><th scope=col>na_cnt</th></tr>\n",
       "\t<tr><th scope=col>&lt;chr&gt;</th><th scope=col>&lt;chr&gt;</th><th scope=col>&lt;int&gt;</th></tr>\n",
       "</thead>\n",
       "<tbody>\n",
       "\t<tr><td>claim_id            </td><td>character</td><td> 0</td></tr>\n",
       "\t<tr><td>time_to_close       </td><td>integer  </td><td> 0</td></tr>\n",
       "\t<tr><td>claim_amount        </td><td>character</td><td> 0</td></tr>\n",
       "\t<tr><td>amount_paid         </td><td>double   </td><td>36</td></tr>\n",
       "\t<tr><td>location            </td><td>character</td><td> 0</td></tr>\n",
       "\t<tr><td>individuals_on_claim</td><td>integer  </td><td> 0</td></tr>\n",
       "\t<tr><td>linked_cases        </td><td>logical  </td><td>26</td></tr>\n",
       "\t<tr><td>cause               </td><td>character</td><td> 0</td></tr>\n",
       "</tbody>\n",
       "</table>\n"
      ],
      "text/latex": [
       "A tibble: 8 × 3\n",
       "\\begin{tabular}{lll}\n",
       " variable & datatype & na\\_cnt\\\\\n",
       " <chr> & <chr> & <int>\\\\\n",
       "\\hline\n",
       "\t claim\\_id             & character &  0\\\\\n",
       "\t time\\_to\\_close        & integer   &  0\\\\\n",
       "\t claim\\_amount         & character &  0\\\\\n",
       "\t amount\\_paid          & double    & 36\\\\\n",
       "\t location             & character &  0\\\\\n",
       "\t individuals\\_on\\_claim & integer   &  0\\\\\n",
       "\t linked\\_cases         & logical   & 26\\\\\n",
       "\t cause                & character &  0\\\\\n",
       "\\end{tabular}\n"
      ],
      "text/markdown": [
       "\n",
       "A tibble: 8 × 3\n",
       "\n",
       "| variable &lt;chr&gt; | datatype &lt;chr&gt; | na_cnt &lt;int&gt; |\n",
       "|---|---|---|\n",
       "| claim_id             | character |  0 |\n",
       "| time_to_close        | integer   |  0 |\n",
       "| claim_amount         | character |  0 |\n",
       "| amount_paid          | double    | 36 |\n",
       "| location             | character |  0 |\n",
       "| individuals_on_claim | integer   |  0 |\n",
       "| linked_cases         | logical   | 26 |\n",
       "| cause                | character |  0 |\n",
       "\n"
      ],
      "text/plain": [
       "  variable             datatype  na_cnt\n",
       "1 claim_id             character  0    \n",
       "2 time_to_close        integer    0    \n",
       "3 claim_amount         character  0    \n",
       "4 amount_paid          double    36    \n",
       "5 location             character  0    \n",
       "6 individuals_on_claim integer    0    \n",
       "7 linked_cases         logical   26    \n",
       "8 cause                character  0    "
      ]
     },
     "metadata": {},
     "output_type": "display_data"
    }
   ],
   "source": [
    "df %>% map_df(typeof) %>% gather %>% left_join(\n",
    "df %>% map_df(~sum(is.na(.))) %>% gather, by = \"key\") %>% \n",
    "select(variable = key, datatype = value.x, na_cnt = value.y)"
   ]
  },
  {
   "cell_type": "markdown",
   "id": "e3dc675a-487b-4860-8fab-dc01404d6065",
   "metadata": {},
   "source": [
    "# Task 1"
   ]
  },
  {
   "cell_type": "markdown",
   "id": "34f4e67a-afcc-478c-ab49-8cde613b6413",
   "metadata": {},
   "source": [
    "## ### Task 1 (a) State whether the values match the description given in the table above."
   ]
  },
  {
   "cell_type": "code",
   "execution_count": 48,
   "id": "fb98c90f-7110-4c86-9187-f1963a14e705",
   "metadata": {
    "executionCancelledAt": null,
    "executionTime": 44,
    "lastExecutedAt": 1696667175874,
    "lastScheduledRunId": null,
    "lastSuccessfullyExecutedCode": "### claim_id\n#df <-  read.csv(\"food_claims_2212.csv\",colClasses = c(\"claim_id\" = \"character\")) #run above\nclass(df$claim_id) # \"character\"\nn_distinct(df$claim_id) == nrow(df) # TRUE which means the claim_id is unique, without any duplicates\nsum(is.na(df$claim_id)) #0 there are no NAs present in claim_id"
   },
   "outputs": [
    {
     "data": {
      "text/html": [
       "'character'"
      ],
      "text/latex": [
       "'character'"
      ],
      "text/markdown": [
       "'character'"
      ],
      "text/plain": [
       "[1] \"character\""
      ]
     },
     "metadata": {},
     "output_type": "display_data"
    },
    {
     "data": {
      "text/html": [
       "TRUE"
      ],
      "text/latex": [
       "TRUE"
      ],
      "text/markdown": [
       "TRUE"
      ],
      "text/plain": [
       "[1] TRUE"
      ]
     },
     "metadata": {},
     "output_type": "display_data"
    },
    {
     "data": {
      "text/html": [
       "0"
      ],
      "text/latex": [
       "0"
      ],
      "text/markdown": [
       "0"
      ],
      "text/plain": [
       "[1] 0"
      ]
     },
     "metadata": {},
     "output_type": "display_data"
    }
   ],
   "source": [
    "### claim_id\n",
    "#df <-  read.csv(\"food_claims_2212.csv\",colClasses = c(\"claim_id\" = \"character\")) #run above\n",
    "class(df$claim_id) # \"character\"\n",
    "n_distinct(df$claim_id) == nrow(df) # TRUE which means the claim_id is unique, without any duplicates\n",
    "sum(is.na(df$claim_id)) #0 there are no NAs present in claim_id"
   ]
  },
  {
   "cell_type": "markdown",
   "id": "e9a61411-b8d5-4b32-b27c-36ab7177cd6c",
   "metadata": {},
   "source": [
    "### claim_id\n",
    "* `claim_id` : In the csv data, values are present 0001, 0014 etc i.e with 0 prefix. So after checking the file, this column must be read as character using `read.csv(\"food_claims_2212.csv\",colClasses = c(\"claim_id\" = \"character\"))`\n",
    "* If colClasses will not be used, this column will be read as integer.\n",
    "* I also compared claim_id with time_to_close variable, latter does not have prefixed 0's in it which emphaises on the claim_id being character."
   ]
  },
  {
   "cell_type": "code",
   "execution_count": 49,
   "id": "26875d74-a39c-437b-98aa-dfa8693f29be",
   "metadata": {
    "executionCancelledAt": null,
    "executionTime": 45,
    "lastExecutedAt": 1696667175919,
    "lastScheduledRunId": null,
    "lastSuccessfullyExecutedCode": "#time_to_close\nis.integer(df$time_to_close) #TRUE The numbers are integers which is counted as discrete\nsum(df$time_to_close > 0) == nrow(df) #TRUE; all +ve as count of positives = row count\nsum(is.na(df$time_to_close)) #0 No NA count in time_to close"
   },
   "outputs": [
    {
     "data": {
      "text/html": [
       "TRUE"
      ],
      "text/latex": [
       "TRUE"
      ],
      "text/markdown": [
       "TRUE"
      ],
      "text/plain": [
       "[1] TRUE"
      ]
     },
     "metadata": {},
     "output_type": "display_data"
    },
    {
     "data": {
      "text/html": [
       "TRUE"
      ],
      "text/latex": [
       "TRUE"
      ],
      "text/markdown": [
       "TRUE"
      ],
      "text/plain": [
       "[1] TRUE"
      ]
     },
     "metadata": {},
     "output_type": "display_data"
    },
    {
     "data": {
      "text/html": [
       "0"
      ],
      "text/latex": [
       "0"
      ],
      "text/markdown": [
       "0"
      ],
      "text/plain": [
       "[1] 0"
      ]
     },
     "metadata": {},
     "output_type": "display_data"
    }
   ],
   "source": [
    "#time_to_close\n",
    "is.integer(df$time_to_close) #TRUE The numbers are integers which is counted as discrete\n",
    "sum(df$time_to_close > 0) == nrow(df) #TRUE; all +ve as count of positives = row count\n",
    "sum(is.na(df$time_to_close)) #0 No NA count in time_to close"
   ]
  },
  {
   "cell_type": "markdown",
   "id": "b7aab757-f8c9-426c-ad75-e8a07cb41d99",
   "metadata": {},
   "source": [
    "### time_to_close\n",
    "* is integer which can be counted as discrete.\n",
    "* All the values are positive.\n",
    "* There are no NA values."
   ]
  },
  {
   "cell_type": "code",
   "execution_count": 50,
   "id": "16e97e44-539c-494a-84a5-eb6fa6af0388",
   "metadata": {
    "executionCancelledAt": null,
    "executionTime": 51,
    "lastExecutedAt": 1696667175971,
    "lastScheduledRunId": null,
    "lastSuccessfullyExecutedCode": "# claim_amount\nclass(df$claim_amount) #character\n# The data type is mentioned as continuous but it is character as prefix `R$` is present\n# so, cleaning claim amount column and converting to character\ndf$claim_amount <- as.numeric(gsub(\"R\\\\$ \", \"\",df$claim_amount))\nclass(df$claim_amount) #numeric\nsum(is.na(df$claim_amount)) #0 No NA values present"
   },
   "outputs": [
    {
     "data": {
      "text/html": [
       "'character'"
      ],
      "text/latex": [
       "'character'"
      ],
      "text/markdown": [
       "'character'"
      ],
      "text/plain": [
       "[1] \"character\""
      ]
     },
     "metadata": {},
     "output_type": "display_data"
    },
    {
     "data": {
      "text/html": [
       "'numeric'"
      ],
      "text/latex": [
       "'numeric'"
      ],
      "text/markdown": [
       "'numeric'"
      ],
      "text/plain": [
       "[1] \"numeric\""
      ]
     },
     "metadata": {},
     "output_type": "display_data"
    },
    {
     "data": {
      "text/html": [
       "0"
      ],
      "text/latex": [
       "0"
      ],
      "text/markdown": [
       "0"
      ],
      "text/plain": [
       "[1] 0"
      ]
     },
     "metadata": {},
     "output_type": "display_data"
    }
   ],
   "source": [
    "# claim_amount\n",
    "class(df$claim_amount) #character\n",
    "# The data type is mentioned as continuous but it is character as prefix `R$` is present\n",
    "# so, cleaning claim amount column and converting to character\n",
    "df$claim_amount <- as.numeric(gsub(\"R\\\\$ \", \"\",df$claim_amount))\n",
    "class(df$claim_amount) #numeric\n",
    "sum(is.na(df$claim_amount)) #0 No NA values present"
   ]
  },
  {
   "cell_type": "markdown",
   "id": "0fb58ca1-a380-47fd-b076-0824b6e4e008",
   "metadata": {},
   "source": [
    "### claim_amount\n",
    " * In description, it is continuous but its datatype is character as prefix `R$` is present\n",
    " * To convert it into numeric, prefix R$ is removed and then convert it to numeric\n",
    " * There are no NA values in the column"
   ]
  },
  {
   "cell_type": "code",
   "execution_count": 51,
   "id": "a432225a-de5f-4f9b-9749-fc5dca93b0cb",
   "metadata": {
    "executionCancelledAt": null,
    "executionTime": 47,
    "lastExecutedAt": 1696667176018,
    "lastScheduledRunId": null,
    "lastSuccessfullyExecutedCode": "#amount_paid\nclass(df$amount_paid) # numeric\nsum(is.na(df$amount_paid)) # 36 NA values\ndf$amount_paid <- replace_na(df$amount_paid, median(df$amount_paid,na.rm = T)) # Imputing NA by median"
   },
   "outputs": [
    {
     "data": {
      "text/html": [
       "'numeric'"
      ],
      "text/latex": [
       "'numeric'"
      ],
      "text/markdown": [
       "'numeric'"
      ],
      "text/plain": [
       "[1] \"numeric\""
      ]
     },
     "metadata": {},
     "output_type": "display_data"
    },
    {
     "data": {
      "text/html": [
       "36"
      ],
      "text/latex": [
       "36"
      ],
      "text/markdown": [
       "36"
      ],
      "text/plain": [
       "[1] 36"
      ]
     },
     "metadata": {},
     "output_type": "display_data"
    }
   ],
   "source": [
    "#amount_paid\n",
    "class(df$amount_paid) # numeric\n",
    "sum(is.na(df$amount_paid)) # 36 NA values\n",
    "df$amount_paid <- replace_na(df$amount_paid, median(df$amount_paid,na.rm = T)) # Imputing NA by median"
   ]
  },
  {
   "cell_type": "markdown",
   "id": "12bd0ef9-178d-4582-bf65-698f9030a36d",
   "metadata": {},
   "source": [
    "### amount_paid\n",
    "* data type is numeric (continuous) as mentioned in description\n",
    "* there are 36 NA values\n",
    "* NA values will be replaed by Median value"
   ]
  },
  {
   "cell_type": "code",
   "execution_count": 52,
   "id": "64ad5bda-6aec-48f6-a1d1-32ebf39ffd5c",
   "metadata": {
    "executionCancelledAt": null,
    "executionTime": 48,
    "lastExecutedAt": 1696667176066,
    "lastScheduledRunId": null,
    "lastSuccessfullyExecutedCode": "# location\nclass(df$location) #character\nsum(is.na(df$location)) #0 "
   },
   "outputs": [
    {
     "data": {
      "text/html": [
       "'character'"
      ],
      "text/latex": [
       "'character'"
      ],
      "text/markdown": [
       "'character'"
      ],
      "text/plain": [
       "[1] \"character\""
      ]
     },
     "metadata": {},
     "output_type": "display_data"
    },
    {
     "data": {
      "text/html": [
       "0"
      ],
      "text/latex": [
       "0"
      ],
      "text/markdown": [
       "0"
      ],
      "text/plain": [
       "[1] 0"
      ]
     },
     "metadata": {},
     "output_type": "display_data"
    }
   ],
   "source": [
    "# location\n",
    "class(df$location) #character\n",
    "sum(is.na(df$location)) #0 "
   ]
  },
  {
   "cell_type": "markdown",
   "id": "336e63b4-b707-44b5-98f9-50302ae46bb7",
   "metadata": {},
   "source": [
    "### location\n",
    "* Thee description mentioned is Nominal which is similar to character as location has no order.\n",
    "* There are no NA values to replace"
   ]
  },
  {
   "cell_type": "code",
   "execution_count": 53,
   "id": "21af7767-6977-4b8e-b815-9249900b84f2",
   "metadata": {
    "executionCancelledAt": null,
    "executionTime": 44,
    "lastExecutedAt": 1696667176110,
    "lastScheduledRunId": null,
    "lastSuccessfullyExecutedCode": "# individuals_on_claim\nclass(df$individuals_on_claim) # integer\nmin(df$individuals_on_claim) # 1 \nsum(is.na(df$individuals_on_claim))"
   },
   "outputs": [
    {
     "data": {
      "text/html": [
       "'integer'"
      ],
      "text/latex": [
       "'integer'"
      ],
      "text/markdown": [
       "'integer'"
      ],
      "text/plain": [
       "[1] \"integer\""
      ]
     },
     "metadata": {},
     "output_type": "display_data"
    },
    {
     "data": {
      "text/html": [
       "1"
      ],
      "text/latex": [
       "1"
      ],
      "text/markdown": [
       "1"
      ],
      "text/plain": [
       "[1] 1"
      ]
     },
     "metadata": {},
     "output_type": "display_data"
    },
    {
     "data": {
      "text/html": [
       "0"
      ],
      "text/latex": [
       "0"
      ],
      "text/markdown": [
       "0"
      ],
      "text/plain": [
       "[1] 0"
      ]
     },
     "metadata": {},
     "output_type": "display_data"
    }
   ],
   "source": [
    "# individuals_on_claim\n",
    "class(df$individuals_on_claim) # integer\n",
    "min(df$individuals_on_claim) # 1 \n",
    "sum(is.na(df$individuals_on_claim))"
   ]
  },
  {
   "cell_type": "markdown",
   "id": "851b449b-9864-4601-bc19-9413af5499a6",
   "metadata": {},
   "source": [
    "### individuals_on_claim\n",
    "* class mentioned in description is discrete which is similar to the data type integer\n",
    "* minimum value is 1\n",
    "* No NA values"
   ]
  },
  {
   "cell_type": "code",
   "execution_count": 54,
   "id": "abef3d43-e30c-492b-9fed-f295ae2e0a45",
   "metadata": {
    "executionCancelledAt": null,
    "executionTime": 48,
    "lastExecutedAt": 1696667176159,
    "lastScheduledRunId": null,
    "lastSuccessfullyExecutedCode": "# linked_cases\nclass(df$linked_cases) #'logical'\ntable(df$linked_cases,useNA = \"ifany\") #only TRUE,, FALSE and NA present\ndf$linked_cases <- replace_na(df$linked_cases, FALSE) #replacing NA with FALSE"
   },
   "outputs": [
    {
     "data": {
      "text/html": [
       "'logical'"
      ],
      "text/latex": [
       "'logical'"
      ],
      "text/markdown": [
       "'logical'"
      ],
      "text/plain": [
       "[1] \"logical\""
      ]
     },
     "metadata": {},
     "output_type": "display_data"
    },
    {
     "data": {
      "text/plain": [
       "\n",
       "FALSE  TRUE  <NA> \n",
       " 1493   481    26 "
      ]
     },
     "metadata": {},
     "output_type": "display_data"
    }
   ],
   "source": [
    "# linked_cases\n",
    "class(df$linked_cases) #'logical'\n",
    "table(df$linked_cases,useNA = \"ifany\") #only TRUE,, FALSE and NA present\n",
    "df$linked_cases <- replace_na(df$linked_cases, FALSE) #replacing NA with FALSE"
   ]
  },
  {
   "cell_type": "markdown",
   "id": "ec5d4348-08f9-4cff-b75b-7a5ca64f573a",
   "metadata": {},
   "source": [
    "### linked_cases\n",
    "* the description is nominal which is in line with logical and can be considered as character without order.\n",
    "* there are 36 NAs present \n",
    "* NAs are replaced by FALSE"
   ]
  },
  {
   "cell_type": "code",
   "execution_count": 55,
   "id": "f00fc46f-8617-4b00-a3d5-047a5947fa53",
   "metadata": {
    "executionCancelledAt": null,
    "executionTime": 48,
    "lastExecutedAt": 1696667176207,
    "lastScheduledRunId": null,
    "lastSuccessfullyExecutedCode": "# cause\nclass(df$cause) #character\nsum(is.na(df$cause)) #0"
   },
   "outputs": [
    {
     "data": {
      "text/html": [
       "'character'"
      ],
      "text/latex": [
       "'character'"
      ],
      "text/markdown": [
       "'character'"
      ],
      "text/plain": [
       "[1] \"character\""
      ]
     },
     "metadata": {},
     "output_type": "display_data"
    },
    {
     "data": {
      "text/html": [
       "0"
      ],
      "text/latex": [
       "0"
      ],
      "text/markdown": [
       "0"
      ],
      "text/plain": [
       "[1] 0"
      ]
     },
     "metadata": {},
     "output_type": "display_data"
    }
   ],
   "source": [
    "# cause\n",
    "class(df$cause) #character\n",
    "sum(is.na(df$cause)) #0"
   ]
  },
  {
   "cell_type": "markdown",
   "id": "12a0d004-4e81-4e1d-a86d-88bf6f405843",
   "metadata": {},
   "source": [
    "### cause\n",
    "* The description is nominal which is in line with the datatype character and no order is present in the column\n",
    "* there are no NAs"
   ]
  },
  {
   "cell_type": "markdown",
   "id": "dc003181-58a4-4b7e-9e84-643c57ba340b",
   "metadata": {},
   "source": [
    "### Task 1 (b) State the number of missing values in the column.\n",
    "* Using summary checked above, it is evident that\n",
    "\n",
    "* `amount_paid` has 36 NA present\n",
    "\n",
    "* `linked_cases` has 26 NA present\n",
    "\n",
    "* Rest of the columns have 0 NA present\n",
    "\n",
    "* For code, please refer 3rd code cell."
   ]
  },
  {
   "cell_type": "markdown",
   "id": "939b6e47-9462-4dc3-9bd8-9e8e99295ae4",
   "metadata": {},
   "source": [
    "### Task 1 (c) Describe what you did to make values match the description if they did not match.\n",
    "* `claim_id` column was not character so while reading the csv file, it was converted to character using colclasses i.e. `colClasses = c(\"claim_id\" = \"character\")``\n",
    "* `claim amount` is character due to prefix `R$`, We will remove the prefix `R$` and convert the remaining character into numeric using below code\n",
    "* NAs in `linked_cases` & `amount_paid` were imputed with 'FALSE' & median value"
   ]
  },
  {
   "cell_type": "code",
   "execution_count": 56,
   "id": "0a837f6e-4006-4677-ad80-d89498715e3e",
   "metadata": {
    "executionCancelledAt": null,
    "executionTime": 43,
    "lastExecutedAt": 1696667176250,
    "lastScheduledRunId": null,
    "lastSuccessfullyExecutedCode": "# claim_id column was not character, so while reading the file it was converted to character\n#cleaning claim amount column and converting to character\ndf$claim_amount <- as.numeric(gsub(\"R\\\\$ \", \"\",df$claim_amount))\n\n#NA imputation for columns having NA\ndf$linked_cases <- replace_na(df$linked_cases, FALSE)\ndf$amount_paid <- replace_na(df$amount_paid, median(df$amount_paid,na.rm = T))"
   },
   "outputs": [],
   "source": [
    "# claim_id column was not character, so while reading the file it was converted to character\n",
    "#cleaning claim amount column and converting to character\n",
    "df$claim_amount <- as.numeric(gsub(\"R\\\\$ \", \"\",df$claim_amount))\n",
    "\n",
    "#NA imputation for columns having NA\n",
    "df$linked_cases <- replace_na(df$linked_cases, FALSE)\n",
    "df$amount_paid <- replace_na(df$amount_paid, median(df$amount_paid,na.rm = T))"
   ]
  },
  {
   "cell_type": "markdown",
   "id": "e6e43d10-5c48-4654-a233-3658c07eb34c",
   "metadata": {},
   "source": [
    "# Task 2"
   ]
  },
  {
   "cell_type": "markdown",
   "id": "5b0cb830-39f5-4a79-8cc0-2882b1fda420",
   "metadata": {},
   "source": [
    "![image-2](image-2.png)\n",
    "\n",
    "The plot shows the frequency of observations for each of the location.\n",
    "\n",
    "## 2(a) The location *\"RECIFE\"* has most observations which is evident from the above plot."
   ]
  },
  {
   "cell_type": "code",
   "execution_count": 57,
   "id": "bd5d8454-7bb7-4271-8d93-ab005a955b67",
   "metadata": {
    "executionCancelledAt": null,
    "executionTime": 48,
    "lastExecutedAt": 1696667176298,
    "lastScheduledRunId": null,
    "lastSuccessfullyExecutedCode": "# 2(a) location having max observations is found out using below code as well \t\ndf %>% group_by(location) %>% summarise(obs_cnt = n()) %>% \n  arrange(desc(obs_cnt)) %>% pull(location) %>% .[1]"
   },
   "outputs": [
    {
     "data": {
      "text/html": [
       "'RECIFE'"
      ],
      "text/latex": [
       "'RECIFE'"
      ],
      "text/markdown": [
       "'RECIFE'"
      ],
      "text/plain": [
       "[1] \"RECIFE\""
      ]
     },
     "metadata": {},
     "output_type": "display_data"
    }
   ],
   "source": [
    "# 2(a) location having max observations is found out using below code as well \t\n",
    "df %>% group_by(location) %>% summarise(obs_cnt = n()) %>% \n",
    "  arrange(desc(obs_cnt)) %>% pull(location) %>% .[1]"
   ]
  },
  {
   "cell_type": "code",
   "execution_count": 58,
   "id": "b46f87bd-5b0e-420b-9df7-d78eac37846c",
   "metadata": {
    "executionCancelledAt": null,
    "executionTime": 44,
    "lastExecutedAt": 1696667176342,
    "lastScheduledRunId": null,
    "lastSuccessfullyExecutedCode": "#2(b)\ndf %>% group_by(location) %>% summarise(obs_cnt = n()) %>% summary(obs_cnt)"
   },
   "outputs": [
    {
     "data": {
      "text/plain": [
       "   location            obs_cnt   \n",
       " Length:4           Min.   :287  \n",
       " Class :character   1st Qu.:305  \n",
       " Mode  :character   Median :414  \n",
       "                    Mean   :500  \n",
       "                    3rd Qu.:609  \n",
       "                    Max.   :885  "
      ]
     },
     "metadata": {},
     "output_type": "display_data"
    }
   ],
   "source": [
    "#2(b)\n",
    "df %>% group_by(location) %>% summarise(obs_cnt = n()) %>% summary(obs_cnt)"
   ]
  },
  {
   "cell_type": "markdown",
   "id": "b565d6e6-0823-4f39-81f8-e596a8f38132",
   "metadata": {},
   "source": [
    "### 2(b) The observations across locations are moderately imbalanced ranging from *287 to 885*. The above cell contains the summary statistics"
   ]
  },
  {
   "cell_type": "markdown",
   "id": "951fa827-f1ac-43f2-9db1-56550926102a",
   "metadata": {},
   "source": [
    "# Task 3"
   ]
  },
  {
   "cell_type": "markdown",
   "id": "2cd31a28-9533-419f-a9fd-c5f71a615430",
   "metadata": {},
   "source": [
    "![image-3](image-3.png)\n",
    "\n",
    "#### The scatter plot of time to close with count of observations shows the number of observations at each time_to_close. From the graph it is evident that most of the observations are having time_to_close between *75 & 275*\n",
    "\n",
    "\n",
    "## The plot is right skewed"
   ]
  },
  {
   "cell_type": "markdown",
   "id": "6d0d2892-a42b-4d72-86d8-b15828b1012e",
   "metadata": {},
   "source": [
    "![image-4](image-4.png)\n",
    "#### The histogram plot of Time_to_close shows the count of observations for various bands of the time. This Plot will tell the skewness of the distribution"
   ]
  },
  {
   "cell_type": "markdown",
   "id": "0558ff54-3152-4f6a-b205-d4cf270a89ae",
   "metadata": {},
   "source": [
    "# Task 4"
   ]
  },
  {
   "cell_type": "markdown",
   "id": "760b2f81-a604-4eab-8b42-2271ec93ede1",
   "metadata": {},
   "source": [
    "![image-5](image-5.png)\n"
   ]
  },
  {
   "cell_type": "code",
   "execution_count": 59,
   "id": "a49d69fe-67c3-438f-9e3a-5bc3d6d9fedb",
   "metadata": {
    "chartConfig": {
     "bar": {
      "hasRoundedCorners": true,
      "stacked": false
     },
     "type": "bar",
     "version": "v1",
     "x": {
      "field": "location",
      "type": "string"
     }
    },
    "executionCancelledAt": null,
    "executionTime": 44,
    "lastExecutedAt": 1696667176386,
    "lastScheduledRunId": null,
    "lastSuccessfullyExecutedCode": "df %>% group_by(location) %>% summarise(minn = min(time_to_close),maxx = max(time_to_close), meann = mean(time_to_close), stddev = sd(time_to_close), range = maxx- minn) ",
    "visualizeDataframe": false
   },
   "outputs": [
    {
     "data": {
      "application/com.datacamp.data-table.v1+json": {
       "table": {
        "data": [
         {
          "index": "1",
          "location": "FORTALEZA",
          "maxx": 453,
          "meann": 185.3055,
          "minn": 76,
          "range": 377,
          "stddev": 47.583
         },
         {
          "index": "2",
          "location": "NATAL",
          "maxx": 361,
          "meann": 185.9268,
          "minn": 93,
          "range": 268,
          "stddev": 47.0592
         },
         {
          "index": "3",
          "location": "RECIFE",
          "maxx": 427,
          "meann": 184.6079,
          "minn": 82,
          "range": 345,
          "stddev": 48.0133
         },
         {
          "index": "4",
          "location": "SAO LUIS",
          "maxx": 518,
          "meann": 187.1702,
          "minn": 84,
          "range": 434,
          "stddev": 53.1261
         }
        ],
        "schema": {
         "fields": [
          {
           "name": "index",
           "type": "string"
          },
          {
           "name": "location",
           "type": "string"
          },
          {
           "name": "minn",
           "type": "integer"
          },
          {
           "name": "maxx",
           "type": "integer"
          },
          {
           "name": "meann",
           "type": "float"
          },
          {
           "name": "stddev",
           "type": "float"
          },
          {
           "name": "range",
           "type": "integer"
          }
         ],
         "pandas_version": "0.20.0",
         "primaryKey": [
          "index"
         ]
        }
       },
       "total_rows": 4,
       "truncation_type": null
      },
      "text/html": [
       "<table class=\"dataframe\">\n",
       "<caption>A tibble: 4 × 6</caption>\n",
       "<thead>\n",
       "\t<tr><th scope=col>location</th><th scope=col>minn</th><th scope=col>maxx</th><th scope=col>meann</th><th scope=col>stddev</th><th scope=col>range</th></tr>\n",
       "\t<tr><th scope=col>&lt;chr&gt;</th><th scope=col>&lt;int&gt;</th><th scope=col>&lt;int&gt;</th><th scope=col>&lt;dbl&gt;</th><th scope=col>&lt;dbl&gt;</th><th scope=col>&lt;int&gt;</th></tr>\n",
       "</thead>\n",
       "<tbody>\n",
       "\t<tr><td>FORTALEZA</td><td>76</td><td>453</td><td>185.3055</td><td>47.58300</td><td>377</td></tr>\n",
       "\t<tr><td>NATAL    </td><td>93</td><td>361</td><td>185.9268</td><td>47.05916</td><td>268</td></tr>\n",
       "\t<tr><td>RECIFE   </td><td>82</td><td>427</td><td>184.6079</td><td>48.01325</td><td>345</td></tr>\n",
       "\t<tr><td>SAO LUIS </td><td>84</td><td>518</td><td>187.1702</td><td>53.12609</td><td>434</td></tr>\n",
       "</tbody>\n",
       "</table>\n"
      ],
      "text/latex": [
       "A tibble: 4 × 6\n",
       "\\begin{tabular}{llllll}\n",
       " location & minn & maxx & meann & stddev & range\\\\\n",
       " <chr> & <int> & <int> & <dbl> & <dbl> & <int>\\\\\n",
       "\\hline\n",
       "\t FORTALEZA & 76 & 453 & 185.3055 & 47.58300 & 377\\\\\n",
       "\t NATAL     & 93 & 361 & 185.9268 & 47.05916 & 268\\\\\n",
       "\t RECIFE    & 82 & 427 & 184.6079 & 48.01325 & 345\\\\\n",
       "\t SAO LUIS  & 84 & 518 & 187.1702 & 53.12609 & 434\\\\\n",
       "\\end{tabular}\n"
      ],
      "text/markdown": [
       "\n",
       "A tibble: 4 × 6\n",
       "\n",
       "| location &lt;chr&gt; | minn &lt;int&gt; | maxx &lt;int&gt; | meann &lt;dbl&gt; | stddev &lt;dbl&gt; | range &lt;int&gt; |\n",
       "|---|---|---|---|---|---|\n",
       "| FORTALEZA | 76 | 453 | 185.3055 | 47.58300 | 377 |\n",
       "| NATAL     | 93 | 361 | 185.9268 | 47.05916 | 268 |\n",
       "| RECIFE    | 82 | 427 | 184.6079 | 48.01325 | 345 |\n",
       "| SAO LUIS  | 84 | 518 | 187.1702 | 53.12609 | 434 |\n",
       "\n"
      ],
      "text/plain": [
       "  location  minn maxx meann    stddev   range\n",
       "1 FORTALEZA 76   453  185.3055 47.58300 377  \n",
       "2 NATAL     93   361  185.9268 47.05916 268  \n",
       "3 RECIFE    82   427  184.6079 48.01325 345  \n",
       "4 SAO LUIS  84   518  187.1702 53.12609 434  "
      ]
     },
     "metadata": {},
     "output_type": "display_data"
    }
   ],
   "source": [
    "df %>% group_by(location) %>% summarise(minn = min(time_to_close),maxx = max(time_to_close), meann = mean(time_to_close), stddev = sd(time_to_close), range = maxx- minn) "
   ]
  },
  {
   "cell_type": "markdown",
   "id": "0fb69447-201d-44e0-90ab-04f69913d518",
   "metadata": {},
   "source": [
    "* From the box plot, it is evident that the mean & Inter quartile Range of the time_to_close for each of the location is similar.\n",
    "\n",
    "* Though we are observing more outliers in `\"SAO LUIS\"` but it is not having much effect on the region's statistics.¶\n",
    "\n",
    "* The mean and standard deviation is mostly similar for all 4 locations except `\"SAO LUIS\"`\n",
    "\n",
    "* Min, Max & Range have variations across all the locations"
   ]
  }
 ],
 "metadata": {
  "editor": "DataCamp Workspace",
  "kernelspec": {
   "display_name": "R",
   "language": "R",
   "name": "ir"
  },
  "language_info": {
   "codemirror_mode": "r",
   "file_extension": ".r",
   "mimetype": "text/x-r-source",
   "name": "R",
   "pygments_lexer": "r",
   "version": "4.2.1"
  }
 },
 "nbformat": 4,
 "nbformat_minor": 5
}
